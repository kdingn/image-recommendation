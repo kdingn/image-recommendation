{
 "cells": [
  {
   "cell_type": "code",
   "execution_count": 1,
   "id": "73acb6ac-948d-44a2-b416-12078889118d",
   "metadata": {},
   "outputs": [],
   "source": [
    "import glob\n",
    "import random\n",
    "import matplotlib.pyplot as plt\n",
    "import torch\n",
    "import torch.nn as nn\n",
    "import torch.utils.data as data\n",
    "import torchvision.models as models\n",
    "import torchvision.transforms as transforms\n",
    "from torch import optim\n",
    "from torch.utils.data import DataLoader\n",
    "from torchvision.models.vision_transformer import ViT_B_16_Weights\n",
    "from torchvision.models import EfficientNet_B7_Weights\n",
    "from PIL import Image\n",
    "%matplotlib inline"
   ]
  },
  {
   "cell_type": "code",
   "execution_count": 2,
   "id": "32815461-b182-4339-a70e-2b2aaee6aec7",
   "metadata": {},
   "outputs": [],
   "source": [
    "import yaml\n",
    "with open('config.yaml', 'r') as f:\n",
    "    config = yaml.load(f, Loader=yaml.SafeLoader)"
   ]
  },
  {
   "cell_type": "code",
   "execution_count": 3,
   "id": "b58f8053-58c1-4741-bd81-6609f73f9d77",
   "metadata": {},
   "outputs": [],
   "source": [
    "output_train_dir = \"./train\"\n",
    "rate = 0.9"
   ]
  },
  {
   "cell_type": "code",
   "execution_count": 4,
   "id": "65c64e90-af26-4f3d-b171-0be586b8e869",
   "metadata": {},
   "outputs": [],
   "source": [
    "train_file_list = []\n",
    "valid_file_list = []\n",
    "\n",
    "like_file_list = glob.glob(f\"{output_train_dir}/01_like/*\")\n",
    "notlike_file_list = glob.glob(f\"{output_train_dir}/00_notlike/*\")\n",
    "\n",
    "like_index = list(set(list(map(lambda x: \"/\" + x.split(\"/\")[-1].split(\".\")[0] + \".\", like_file_list))))\n",
    "random.seed(2022)\n",
    "like_train_index = random.sample(like_index, int(len(like_index)*rate))\n",
    "like_valid_index = [x for x in like_index if x not in like_train_index]\n",
    "train_file_list.extend([x for x in like_file_list if \"/\" + x.split(\"/\")[-1].split(\".\")[0] + \".\" in like_train_index])\n",
    "valid_file_list.extend([x for x in like_file_list if \"/\" + x.split(\"/\")[-1].split(\".\")[0] + \".\" in like_valid_index])\n",
    "\n",
    "notlike_index = list(set(list(map(lambda x: \"/\" + x.split(\"/\")[-1].split(\".\")[0] + \".\", notlike_file_list))))\n",
    "random.seed(2022)\n",
    "notlike_train_index = random.sample(notlike_index, int(len(notlike_index)*rate))\n",
    "notlike_valid_index = [x for x in notlike_index if x not in notlike_train_index]\n",
    "train_file_list.extend([x for x in notlike_file_list if \"/\" + x.split(\"/\")[-1].split(\".\")[0] + \".\" in notlike_train_index])\n",
    "valid_file_list.extend([x for x in notlike_file_list if \"/\" + x.split(\"/\")[-1].split(\".\")[0] + \".\" in notlike_valid_index])"
   ]
  },
  {
   "cell_type": "code",
   "execution_count": 5,
   "id": "fd015023-67ea-429d-94ee-5d365c1fca43",
   "metadata": {},
   "outputs": [],
   "source": [
    "class ThumbDataset(data.Dataset):\n",
    "    def __init__(self, file_list, classes, transform=None):\n",
    "        self.file_list = file_list\n",
    "        self.classes = classes\n",
    "        self.transform = transform\n",
    "\n",
    "    def __len__(self):\n",
    "        return len(self.file_list)\n",
    "\n",
    "    def __getitem__(self, index):\n",
    "        # 指定したindexの画像を読み込む\n",
    "        img_path = self.file_list[index]\n",
    "        img = Image.open(img_path)\n",
    "        # 画像の前処理を実施\n",
    "        img_transformed = self.transform(img)\n",
    "        # label(分類) の取得\n",
    "        label = self.classes.index(img_path.split(\"/\")[-2])\n",
    "        return img_transformed, label"
   ]
  },
  {
   "cell_type": "code",
   "execution_count": 6,
   "id": "8b6e34a8-5f37-4167-a307-80d2fcead5cc",
   "metadata": {},
   "outputs": [],
   "source": [
    "# transform\n",
    "# param\n",
    "mean = (0.485, 0.456, 0.406)\n",
    "std = (0.229, 0.224, 0.225)\n",
    "# compose\n",
    "transform_train = transforms.Compose([\n",
    "    transforms.RandomVerticalFlip(p=0.2),\n",
    "    transforms.ToTensor(),\n",
    "    transforms.Normalize(mean, std),\n",
    "    transforms.RandomErasing(p=0.2)\n",
    "])\n",
    "transform_valid = transforms.Compose([\n",
    "    transforms.ToTensor(),\n",
    "    transforms.Normalize(mean, std)\n",
    "])"
   ]
  },
  {
   "cell_type": "code",
   "execution_count": 7,
   "id": "9e1d3c7e-47b0-4375-a07c-f9ca6f11407c",
   "metadata": {},
   "outputs": [],
   "source": [
    "# Datasetの作成\n",
    "classes = [\"00_notlike\", \"01_like\"]\n",
    "train_dataset = ThumbDataset(\n",
    "    file_list=train_file_list,\n",
    "    classes=classes,\n",
    "    transform=transform_train\n",
    ")\n",
    "valid_dataset = ThumbDataset(\n",
    "    file_list=valid_file_list,\n",
    "    classes=classes,\n",
    "    transform=transform_valid\n",
    ")"
   ]
  },
  {
   "cell_type": "code",
   "execution_count": 8,
   "id": "6f5cd112-df12-4b00-8f52-65e1b7df4a4c",
   "metadata": {},
   "outputs": [],
   "source": [
    "# DataLoaderの設定\n",
    "batch_size = config[\"batch_size\"]\n",
    "train_loader = DataLoader(train_dataset, batch_size=batch_size, shuffle=True)\n",
    "test_loader = DataLoader(valid_dataset, batch_size=batch_size, shuffle=False)"
   ]
  },
  {
   "cell_type": "code",
   "execution_count": 9,
   "id": "40102081-f5d5-4941-9278-25ac4fe3cbb4",
   "metadata": {},
   "outputs": [],
   "source": [
    "# model loading\n",
    "if config[\"model\"] == \"efficientnet\":\n",
    "    net = models.efficientnet_b7(weights=EfficientNet_B7_Weights.DEFAULT)\n",
    "    for param in net.parameters():\n",
    "        param.requires_grad = False\n",
    "    net.classifier[1] = nn.Linear(2560, 2)\n",
    "elif config[\"model\"] == \"vit\":\n",
    "    net = models.vit_b_16(weights=ViT_B_16_Weights.DEFAULT)\n",
    "    for param in net.parameters():\n",
    "        param.requires_grad = False\n",
    "    net.heads[0] = nn.Linear(768, 2)\n",
    "_ = net.cuda()"
   ]
  },
  {
   "cell_type": "code",
   "execution_count": 10,
   "id": "6cb12b87-d1be-48ca-859c-c8fdb1b0c3e3",
   "metadata": {},
   "outputs": [
    {
     "name": "stdout",
     "output_type": "stream",
     "text": [
      "Epoch: 0 Loss_Train: 0.5920063956924106 Loss_Test: 0.5939218799273173\n",
      "Epoch: 1 Loss_Train: 0.4367476300052974 Loss_Test: 0.5189388593037924\n",
      "Epoch: 2 Loss_Train: 0.3840288636477097 Loss_Test: 0.46880324681599933\n",
      "Epoch: 3 Loss_Train: 0.34495988941710926 Loss_Test: 0.4508039553960164\n",
      "Epoch: 4 Loss_Train: 0.34518332196318585 Loss_Test: 0.44270431995391846\n",
      "Epoch: 5 Loss_Train: 0.31963049393633136 Loss_Test: 0.43637839953104657\n",
      "Epoch: 6 Loss_Train: 0.29650371100591577 Loss_Test: 0.41621436675389606\n",
      "Epoch: 7 Loss_Train: 0.2747604944135832 Loss_Test: 0.3890567223230998\n",
      "Epoch: 8 Loss_Train: 0.2750871343457181 Loss_Test: 0.3788515677054723\n",
      "Epoch: 9 Loss_Train: 0.27949238600938214 Loss_Test: 0.3850326289733251\n",
      "Epoch: 10 Loss_Train: 0.2796395621869875 Loss_Test: 0.3489755441745122\n",
      "Epoch: 11 Loss_Train: 0.26978557589261426 Loss_Test: 0.35712088644504547\n",
      "Epoch: 12 Loss_Train: 0.28024733584860095 Loss_Test: 0.3475492099920909\n",
      "Epoch: 13 Loss_Train: 0.2933789005746012 Loss_Test: 0.32975078622500104\n",
      "Epoch: 14 Loss_Train: 0.2972467671269956 Loss_Test: 0.34366873403390247\n",
      "Epoch: 15 Loss_Train: 0.27950678344654 Loss_Test: 0.3103380302588145\n",
      "CPU times: user 15min 8s, sys: 5.93 s, total: 15min 13s\n",
      "Wall time: 4min 16s\n"
     ]
    }
   ],
   "source": [
    "%%time\n",
    "\n",
    "# 交差エントロピー誤差関数\n",
    "loss_fnc = nn.CrossEntropyLoss()\n",
    "\n",
    "# 最適化アルゴリズム\n",
    "optimizer = optim.SGD(net.parameters(), lr=0.01, momentum=0.9)\n",
    "\n",
    "# 損失のログ\n",
    "record_loss_train = []\n",
    "record_loss_test = []\n",
    "\n",
    "# 学習\n",
    "for i in range(config[\"epoch_num\"]):  # エポック学習\n",
    "    net.train()  # 訓練モード\n",
    "    loss_train = 0\n",
    "    for j, (x, t) in enumerate(train_loader):\n",
    "        x, t = x.cuda(), t.cuda()  # GPU対応\n",
    "        y = net(x)\n",
    "        loss = loss_fnc(y, t)\n",
    "        loss_train += loss.item()\n",
    "        optimizer.zero_grad()\n",
    "        loss.backward()\n",
    "        optimizer.step()\n",
    "    loss_train /= j+1\n",
    "    record_loss_train.append(loss_train)\n",
    "\n",
    "    net.eval()  # 評価モード\n",
    "    loss_test = 0\n",
    "    for j, (x, t) in enumerate(test_loader):\n",
    "        x, t = x.cuda(), t.cuda()\n",
    "        y = net(x)\n",
    "        loss = loss_fnc(y, t)\n",
    "        loss_test += loss.item()\n",
    "    loss_test /= j+1\n",
    "    record_loss_test.append(loss_test)\n",
    "\n",
    "    if i % 1 == 0:\n",
    "        print(\"Epoch:\", i, \"Loss_Train:\", loss_train, \"Loss_Test:\", loss_test)"
   ]
  },
  {
   "cell_type": "code",
   "execution_count": 11,
   "id": "812af46a-266d-4a9a-a41a-0d60ac5f0c9f",
   "metadata": {},
   "outputs": [
    {
     "data": {
      "image/png": "[encoded data removed]",
      "text/plain": [
       "<Figure size 432x288 with 1 Axes>"
      ]
     },
     "metadata": {
      "needs_background": "light"
     },
     "output_type": "display_data"
    }
   ],
   "source": [
    "plt.plot(range(len(record_loss_train)), record_loss_train, label=\"Train\")\n",
    "plt.plot(range(len(record_loss_test)), record_loss_test, label=\"Test\")\n",
    "plt.legend()\n",
    "\n",
    "plt.xlabel(\"Epochs\")\n",
    "plt.ylabel(\"Error\")\n",
    "plt.show()"
   ]
  },
  {
   "cell_type": "code",
   "execution_count": 12,
   "id": "1650f637-f0da-48b6-8019-5b765a827e6f",
   "metadata": {},
   "outputs": [],
   "source": [
    "model_path = 'model.pth'\n",
    "torch.save(net.state_dict(), model_path)"
   ]
  },
  {
   "cell_type": "code",
   "execution_count": null,
   "id": "ae849072-ed0a-4ae6-ab83-614ef0bb3b4a",
   "metadata": {},
   "outputs": [],
   "source": []
  }
 ],
 "metadata": {
  "kernelspec": {
   "display_name": "Python 3 (ipykernel)",
   "language": "python",
   "name": "python3"
  },
  "language_info": {
   "codemirror_mode": {
    "name": "ipython",
    "version": 3
   },
   "file_extension": ".py",
   "mimetype": "text/x-python",
   "name": "python",
   "nbconvert_exporter": "python",
   "pygments_lexer": "ipython3",
   "version": "3.7.12"
  }
 },
 "nbformat": 4,
 "nbformat_minor": 5
}
