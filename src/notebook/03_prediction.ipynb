{
 "cells": [
  {
   "cell_type": "code",
   "execution_count": 1,
   "id": "4b58d9a6-c256-4c36-a9aa-53e10bc18073",
   "metadata": {},
   "outputs": [],
   "source": [
    "import glob\n",
    "import math\n",
    "import pandas as pd\n",
    "from PIL import Image\n",
    "import torch\n",
    "import torch.nn as nn\n",
    "import torchvision.transforms as transforms\n",
    "import torchvision.models as models\n",
    "from torchvision.models.vision_transformer import ViT_B_16_Weights\n",
    "from torchvision.models import EfficientNet_B7_Weights"
   ]
  },
  {
   "cell_type": "code",
   "execution_count": 2,
   "id": "f71c9aef-3b46-486a-ba6c-5a4d5d8c0391",
   "metadata": {},
   "outputs": [
    {
     "data": {
      "text/plain": [
       "<All keys matched successfully>"
      ]
     },
     "execution_count": 2,
     "metadata": {},
     "output_type": "execute_result"
    }
   ],
   "source": [
    "# settings\n",
    "input_dir = \"./image\"\n",
    "output_train_dir = \"./train\"\n",
    "output_test_dir = \"./test\"\n",
    "path_list = [f\"{output_train_dir}/00_notlike/*\",\n",
    "             f\"{output_train_dir}/01_like/*\",\n",
    "             f\"{output_test_dir}/*\"]\n",
    "\n",
    "classes = [\"00_notlike\", \"01_like\"]\n",
    "\n",
    "batch_size = 32\n",
    "\n",
    "mean = (0.485, 0.456, 0.406)\n",
    "std = (0.229, 0.224, 0.225)\n",
    "transform_valid = transforms.Compose([\n",
    "    transforms.ToTensor(),\n",
    "    transforms.Normalize(mean, std)\n",
    "])\n",
    "\n",
    "# model loading\n",
    "net = models.efficientnet_b7(weights=EfficientNet_B7_Weights.DEFAULT)\n",
    "for param in net.parameters():\n",
    "    param.requires_grad = False\n",
    "net.classifier[1] = nn.Linear(2560, 2)\n",
    "_ = net.cuda()  # GPU対応\n",
    "# net = models.vit_b_16(weights=ViT_B_16_Weights.DEFAULT)\n",
    "# for param in net.parameters():\n",
    "#     param.requires_grad = False\n",
    "# net.heads[0] = nn.Linear(768, 2)\n",
    "# _ = net.cuda()  # GPU対応\n",
    "# saved model\n",
    "model_path = 'model.pth'\n",
    "net.load_state_dict(torch.load(model_path))"
   ]
  },
  {
   "cell_type": "code",
   "execution_count": 3,
   "id": "d487d542-bcae-4c66-ab14-5246d9f570e6",
   "metadata": {},
   "outputs": [],
   "source": [
    "ids = pd.DataFrame()\n",
    "for path in path_list:\n",
    "    ids = pd.concat([\n",
    "        ids,\n",
    "        pd.DataFrame({\n",
    "            \"id\": map(lambda x: int(x.split(\"/\")[-1].split(\".\")[0]),\n",
    "                      glob.glob(path)),\n",
    "            \"dir\": path\n",
    "        })\n",
    "    ]).drop_duplicates().reset_index(drop=True)\n",
    "ids[\"png\"] = ids[\"dir\"].apply(lambda x: x[:-1]) + ids[\"id\"].astype(str) + \".png\"\n",
    "ids[\"image\"] = input_dir + \"/\" + ids[\"id\"].astype(str) + \".png\""
   ]
  },
  {
   "cell_type": "code",
   "execution_count": 4,
   "id": "510f97d8-79ad-4621-bf3e-07cd73042020",
   "metadata": {},
   "outputs": [],
   "source": [
    "interval = batch_size\n",
    "ilim = math.ceil(len(ids)/interval)\n",
    "\n",
    "net.eval()\n",
    "results = pd.DataFrame()\n",
    "for i in range(ilim):\n",
    "    imin = interval*i\n",
    "    imax = interval*(i+1)\n",
    "\n",
    "    imgs = []\n",
    "    index = []\n",
    "    for index_el, path in zip(ids[\"id\"][imin:imax], ids[\"png\"][imin:imax]):\n",
    "        img = transform_valid(Image.open(path))\n",
    "        imgs.append(img)\n",
    "        index.append(index_el)\n",
    "\n",
    "    result = pd.DataFrame(\n",
    "        (net(torch.stack(imgs).cuda())).to('cpu').detach().numpy().copy(),\n",
    "        columns=classes,\n",
    "        index=index\n",
    "    )\n",
    "    results = pd.concat([results, result])"
   ]
  },
  {
   "cell_type": "code",
   "execution_count": 5,
   "id": "de3aa50d-bd72-4942-b1c6-e1bb8fa12b32",
   "metadata": {},
   "outputs": [],
   "source": [
    "results.to_csv(\"prediction.csv\", index_label=\"id\")"
   ]
  },
  {
   "cell_type": "code",
   "execution_count": null,
   "id": "8c644a10-09f1-424f-bbaf-40cdd8da8bed",
   "metadata": {},
   "outputs": [],
   "source": []
  }
 ],
 "metadata": {
  "kernelspec": {
   "display_name": "Python 3 (ipykernel)",
   "language": "python",
   "name": "python3"
  },
  "language_info": {
   "codemirror_mode": {
    "name": "ipython",
    "version": 3
   },
   "file_extension": ".py",
   "mimetype": "text/x-python",
   "name": "python",
   "nbconvert_exporter": "python",
   "pygments_lexer": "ipython3",
   "version": "3.7.12"
  }
 },
 "nbformat": 4,
 "nbformat_minor": 5
}
