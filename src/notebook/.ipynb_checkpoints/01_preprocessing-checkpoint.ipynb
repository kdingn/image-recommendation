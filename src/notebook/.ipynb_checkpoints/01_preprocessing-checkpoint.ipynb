{
 "cells": [
  {
   "cell_type": "code",
   "execution_count": 13,
   "id": "71af7d22-a62d-481f-8b0c-bd92d7548074",
   "metadata": {
    "tags": []
   },
   "outputs": [],
   "source": [
    "import os\n",
    "import pandas as pd\n",
    "from PIL import Image"
   ]
  },
  {
   "cell_type": "code",
   "execution_count": null,
   "id": "a2b6c43b-be87-49c5-a6de-4178a4600811",
   "metadata": {},
   "outputs": [],
   "source": [
    "# label\n",
    "labels = pd.read_csv(\"label.csv\")\n",
    "\n",
    "# augumentation setting\n",
    "alpha = labels[\"like\"].mean()\n",
    "times = int((1-alpha)/alpha)  # 正例が少ないものとして比率を算出\n",
    "n = 300  # 水増し画像は(n,n)で加工したのち(224,224)として出力される\n",
    "dig = 15  # 水増し画像は(-dig,dig)の範囲で回転加工される\n",
    "idigre = dig*2/(times-1)  # 水増し画像の回転角度"
   ]
  },
  {
   "cell_type": "code",
   "execution_count": null,
   "id": "753673e6-e404-4aea-af8d-62daeb16f79f",
   "metadata": {},
   "outputs": [],
   "source": [
    "# outputディレクトリの指定\n",
    "output_dir = \"./train\"\n",
    "path_list = [f\"{output_dir}/00_notlike/\",\n",
    "             f\"{output_dir}/01_like/\",\n",
    "             f\"{output_dir}/test\"]\n",
    "\n",
    "# フォルダを作成\n",
    "for path in path_list:\n",
    "    if not os.path.exists(path):\n",
    "        os.makedirs(path)"
   ]
  },
  {
   "cell_type": "code",
   "execution_count": 12,
   "id": "044ff333-5b0d-4ab6-8893-a9e1a53ef332",
   "metadata": {},
   "outputs": [],
   "source": [
    "# 加工済ファイル出力\n",
    "# train\n",
    "input_dir = \"./image\"\n",
    "for i, l in zip(labels[\"id\"], labels[\"like\"]):\n",
    "    img = Image.open(f'{input_dir}/{i}.png')\n",
    "    img = img.convert(\"RGB\")\n",
    "    w, h = img.size\n",
    "    if w/h > 1:\n",
    "        img = img.crop((w/6, 0, w/2, h))\n",
    "        w = w/2\n",
    "    if (times > 1) & (l == 1):\n",
    "        for j in range(times):\n",
    "            digree = idigre*j - dig\n",
    "            img.rotate(digree).resize((n, n)).crop(\n",
    "                ((n-224)/2, (n-224)/2, n-(n-224)/2, n-(n-224)/2)\n",
    "            ).save(path_list[int(l)] + f\"{i}.{j}.png\")\n",
    "    img = img.resize((224, 224))\n",
    "    img.save(path_list[int(l)] + f\"{i}.png\")"
   ]
  },
  {
   "cell_type": "code",
   "execution_count": null,
   "id": "09ed0f12-c646-4425-a442-3ce4817c5c9d",
   "metadata": {},
   "outputs": [],
   "source": []
  },
  {
   "cell_type": "code",
   "execution_count": null,
   "id": "67eb46ed-86c4-49e3-8aca-8bddb6cc2eaa",
   "metadata": {},
   "outputs": [],
   "source": []
  },
  {
   "cell_type": "code",
   "execution_count": null,
   "id": "ecaa5f49-97bd-43b0-8137-f051d840a69c",
   "metadata": {},
   "outputs": [],
   "source": []
  },
  {
   "cell_type": "code",
   "execution_count": null,
   "id": "a034d89f-84fb-40e2-acc8-e329fdd95996",
   "metadata": {},
   "outputs": [],
   "source": []
  },
  {
   "cell_type": "code",
   "execution_count": null,
   "id": "8775641a-0aa7-49e5-9448-9b3d7c0e766f",
   "metadata": {},
   "outputs": [],
   "source": []
  },
  {
   "cell_type": "code",
   "execution_count": null,
   "id": "a1907861-7f45-44f0-b59a-8b19dbe02ecc",
   "metadata": {},
   "outputs": [],
   "source": []
  }
 ],
 "metadata": {
  "kernelspec": {
   "display_name": "Python 3 (ipykernel)",
   "language": "python",
   "name": "python3"
  },
  "language_info": {
   "codemirror_mode": {
    "name": "ipython",
    "version": 3
   },
   "file_extension": ".py",
   "mimetype": "text/x-python",
   "name": "python",
   "nbconvert_exporter": "python",
   "pygments_lexer": "ipython3",
   "version": "3.7.12"
  }
 },
 "nbformat": 4,
 "nbformat_minor": 5
}
